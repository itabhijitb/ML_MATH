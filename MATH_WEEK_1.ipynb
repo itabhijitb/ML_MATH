{
  "nbformat": 4,
  "nbformat_minor": 0,
  "metadata": {
    "colab": {
      "provenance": [],
      "include_colab_link": true
    },
    "language_info": {
      "file_extension": ".py",
      "mimetype": "text/x-python",
      "name": "python"
    },
    "kernelspec": {
      "display_name": "Python 2",
      "language": "python",
      "name": "python2"
    }
  },
  "cells": [
    {
      "cell_type": "markdown",
      "metadata": {
        "id": "view-in-github",
        "colab_type": "text"
      },
      "source": [
        "<a href=\"https://colab.research.google.com/github/itabhijitb/ML_MATH/blob/main/MATH_WEEK_1.ipynb\" target=\"_parent\"><img src=\"https://colab.research.google.com/assets/colab-badge.svg\" alt=\"Open In Colab\"/></a>"
      ]
    },
    {
      "cell_type": "markdown",
      "metadata": {
        "id": "ea-GiSpRe-jT"
      },
      "source": [
        "# MATH\n",
        "## Lecture 1: Introduction"
      ]
    },
    {
      "cell_type": "markdown",
      "metadata": {
        "id": "MsvJk3sQe-jU"
      },
      "source": [
        "#### Logistics\n",
        "* Homework with every lecture (ungraded), worked on with TAs and instructors after lecture\n",
        "* Each  lecture  begins  with  a  10  minute  minute  partnered  quiz—Peer graded•\n",
        "* 1.5 hour final exam week 6\n",
        "* Weekly homework to be completed in pairs. These will connect the theory of lectures with practical application.  By the end, it will build up to a full solution to arecommender system, where you’ll be given a collection of ratings users assigned to books on Amazon.com and you want to predict how those users will rate other books."
      ]
    },
    {
      "cell_type": "markdown",
      "metadata": {
        "id": "YvsyAvL1e-jU"
      },
      "source": [
        "### Grade Distribution\n",
        "In total, 60% is needed to pass.\n",
        "* 40% Homeworks\n",
        "* 40% Exam\n",
        "* 20% Quizzes"
      ]
    },
    {
      "cell_type": "markdown",
      "metadata": {
        "id": "PPBWuBo6e-jV"
      },
      "source": [
        "### Goal\n",
        "* This is not a weed-out class\n",
        "* We want everyone to succeed and continue with MLU\n",
        "* Unless we tell you otherwise, assume you can use all resources, and work in any sized group you want (but submit in pairs!)"
      ]
    },
    {
      "cell_type": "markdown",
      "metadata": {
        "id": "XBDkJ2fGe-jV"
      },
      "source": [
        "#### Attendance\n",
        "* Attend every lecture\n",
        "* Sev2+ are allowable exceptions\n",
        "\n",
        ">> If you miss two classes, we will assume you are no longer interested\n",
        ">> in the course, and your enrollment will be automatically\n",
        ">> revoked."
      ]
    },
    {
      "cell_type": "markdown",
      "metadata": {
        "id": "46kg0gkOe-jW"
      },
      "source": [
        "#### Communication\n",
        "* All communications from us will come through: [mlu.instructure.com](mlu.instructure.com)\n",
        "* Canvas (the above link) also has a discussion board that we will monitor to answer all questions. If you want to reach us outside\n",
        "class, this is the best way."
      ]
    },
    {
      "cell_type": "markdown",
      "metadata": {
        "id": "8HGnBeOZe-jW"
      },
      "source": [
        "#### Goal\n",
        "* This is not a weed-out class\n",
        "* We want everyone to succeed and continue with MLU\n",
        "* Unless we tell you otherwise, assume you can use all resources, and work in any sized group you want"
      ]
    },
    {
      "cell_type": "markdown",
      "metadata": {
        "id": "uDs1mMSHe-jX"
      },
      "source": [
        "### Week 1 -  Vectors and Matrices\n",
        "* Concept of vectors, and matrices\n",
        "* Notation used to express them\n",
        "* Geometry of vectors\n",
        "* Vector norms:L1,L2, L∞\n",
        "* k-Nearest Neighbors"
      ]
    },
    {
      "cell_type": "markdown",
      "metadata": {
        "id": "S8k-u8HFe-jY"
      },
      "source": [
        "# MATH\n",
        "## Lecture 1: The ML Context"
      ]
    },
    {
      "cell_type": "markdown",
      "metadata": {
        "id": "A1YzgU28e-jY"
      },
      "source": [
        "# Questions?"
      ]
    },
    {
      "cell_type": "markdown",
      "metadata": {
        "id": "AOoAEKZfe-jZ"
      },
      "source": [
        "## What is ML?\n",
        "\n",
        "![XKCD](https://imgs.xkcd.com/comics/machine_learning_2x.png)\n"
      ]
    },
    {
      "cell_type": "markdown",
      "metadata": {
        "id": "_5HqNFJxe-jZ"
      },
      "source": [
        "Machine Learning gives “computers the ability to learn without being explicitly programmed”\n",
        "* Collection of methods that allow the extraction of rules or patterns from data, rather than explicit construction from a programmer."
      ]
    },
    {
      "cell_type": "markdown",
      "metadata": {
        "id": "sdoZKoase-ja"
      },
      "source": [
        "## The Role of Mathematics\n",
        "\n",
        "Throughout history, mathematics has been the language in which we express patterns. Thus before we can begin with machine learning, we need to learn the language it uses to discover those patterns."
      ]
    },
    {
      "cell_type": "markdown",
      "metadata": {
        "id": "hs268llVe-jb"
      },
      "source": [
        "### A Warning\n",
        "> It will not always be immediately clear how everything we discuss will be useful, but trust us, we really have pared this down to the bare essentials!  Nothing is here “just for fun.”"
      ]
    },
    {
      "cell_type": "markdown",
      "metadata": {
        "id": "Xv1mfvv0e-jc"
      },
      "source": [
        "## The ML Pipeline\n",
        "This is the general structure of any ML based solution. The topics in our class are separated and highlighted in green.\n",
        "\n",
        "![XKCD](https://drive.corp.amazon.com/view/abhijbha@/HostedImages/MLU/MATH/ml_flow.png?download=true)"
      ]
    },
    {
      "cell_type": "markdown",
      "metadata": {
        "id": "AR_vHfxTe-jc"
      },
      "source": [
        "### Mathematics in Context\n",
        "#### The Pedantic Cliche problem\n",
        "> We want to predict the price of an apartment in Bangalore from the super built area. Our hypothesis is, the bigger the apartment, the costlier it is. Based on this hypothesis, we collect data of various apartment and plot as a scatter plot, with super-built-area in X-axis and price in Y-axis.\n",
        "\n",
        "The Branch of Mathematics that deals with the process of extracting various insights and useful information of data samples using collection of techniques is called **Statistics**. **Statistical prediction** is the process of making inference of a larger population from based on a sample collected from the same population."
      ]
    },
    {
      "cell_type": "code",
      "metadata": {
        "id": "K81r3m5ye-jd",
        "colab": {
          "base_uri": "https://localhost:8080/"
        },
        "outputId": "7a995057-beb7-4a5f-ed14-4bb1b34044ce"
      },
      "source": [
        "import pandas as pd\n",
        "import matplotlib.pyplot as plt\n",
        "import numpy as np\n",
        "df = pd.DataFrame({'area': [325, 429, 868, 886, 895, 1105, 1370, 1550, 1602,\n",
        "                            1751, 2074, 2092, 2384, 2391, 2561, 2592, 2715, 2820],\n",
        "                   'price': [3975, 4687, 7004, 6058, 6485, 8115, 7510, 9050, 7206,\n",
        "                             9253, 9422, 9476, 11352, 11373, 9483, 10776, 10945, 12660]})\n",
        "df.plot.scatter(x='area', y='price')\n",
        "param_0 = np.polyfit(df.area, df.price, 1)\n",
        "param_1 = np.asarray([2, 4000])\n",
        "param_2 = np.asarray([1, 6000])\n",
        "line_0 = np.poly1d(param_0)\n",
        "line_1 = np.poly1d(param_1)\n",
        "line_2 = np.poly1d(param_2)\n",
        "plt.plot(df.area,line_0(df.area),\"r\")\n",
        "plt.plot(df.area,line_1(df.area),\"g--\",)\n",
        "plt.plot(df.area,line_2(df.area),\"b--\",)"
      ],
      "execution_count": null,
      "outputs": [
        {
          "output_type": "execute_result",
          "data": {
            "text/plain": [
              "[<matplotlib.lines.Line2D at 0x7ff7951a6bd0>]"
            ]
          },
          "metadata": {
            "tags": []
          },
          "execution_count": 1
        },
        {
          "output_type": "display_data",
          "data": {
            "image/png": "[encoded data removed]",
            "text/plain": [
              "<Figure size 432x288 with 1 Axes>"
            ]
          },
          "metadata": {
            "tags": []
          }
        }
      ]
    },
    {
      "cell_type": "markdown",
      "metadata": {
        "id": "jFykKcH1e-jh"
      },
      "source": [
        "To predict the price from the area, we can find a line `y = mx + c`that intersects as many data points as possible. We can then use the line to predict the price of any apartment, if we know its size. Unfortunately, to get that line, we have to try a bunch of lines (as shown in red, green and blue) varing `m` and `c`.\n",
        "For each of these lines, we also have to determine how close the predicted value $\\hat{Y}$ is to the actual value $Y$. In order to do so, we have to calculate the total error for each of the prediction. One of the methods is to calculate the least square error between the predicted and actual value and sum it over all the values.\n",
        "$$\\sum_{i=1}^{n}{\\left(\\hat{y}_i - y_i\\right)}^2$$\n",
        "Our goal is thus to find that line which has the least error."
      ]
    },
    {
      "cell_type": "code",
      "metadata": {
        "id": "Iy5BWJzOe-ji",
        "colab": {
          "base_uri": "https://localhost:8080/"
        },
        "outputId": "b5caa3ae-bb3a-45d3-800c-41a8db256337"
      },
      "source": [
        "df.plot.scatter(x='area', y='price')\n",
        "param = np.polyfit(df.area, df.price, 1)\n",
        "line = np.poly1d(param)\n",
        "plt.plot(df.area,line(df.area),\"r--\")\n",
        "error = (df.price - line(df.area))\n",
        "error = [error, [0]*len(error)]\n",
        "plt.errorbar(df.area, df.price, yerr=error, fmt='o')"
      ],
      "execution_count": null,
      "outputs": [
        {
          "output_type": "execute_result",
          "data": {
            "text/plain": [
              "<ErrorbarContainer object of 3 artists>"
            ]
          },
          "metadata": {
            "tags": []
          },
          "execution_count": 2
        },
        {
          "output_type": "display_data",
          "data": {
            "image/png": "[encoded data removed]",
            "text/plain": [
              "<Figure size 432x288 with 1 Axes>"
            ]
          },
          "metadata": {
            "tags": []
          }
        }
      ]
    },
    {
      "cell_type": "markdown",
      "metadata": {
        "id": "1Kp-Kj6qe-jl"
      },
      "source": [
        "For our line $y = mx + c$, we can try various values of `m` and `c` to get the prediction $\\hat{Y}$. For each of these predictions, we can calculate the least square error $z=\\sum_{i=1}^{n}{\\left(\\hat{y}_i - y_i\\right)}^2$. We can then plot a three dimensional contour. Our solution is the pair of (m, c), for the lowest error corresponding to the lowest epogy in the below contour."
      ]
    },
    {
      "cell_type": "code",
      "metadata": {
        "id": "TDleA1D7e-jm",
        "colab": {
          "base_uri": "https://localhost:8080/"
        },
        "outputId": "62493a0d-cf61-4e2d-a4a5-55afdbfb15a4"
      },
      "source": [
        "import matplotlib.pyplot as plt\n",
        "from matplotlib import cm\n",
        "from mpl_toolkits.mplot3d import axes3d, Axes3D #<-- Note the capitalization!\n",
        "\n",
        "def Error(df):\n",
        "    '''Error Function\n",
        "    :param df: datapoint\n",
        "    '''\n",
        "    def helper(M, C):\n",
        "        '''Curry function that captures and holds the scope of outer function\n",
        "        :param M: The slope of the line\n",
        "        :param C: The C-intercept\n",
        "        '''\n",
        "        lines = np.sum((row.price - (M*row.area + C))**2 for _, row in df.iterrows())\n",
        "        return lines\n",
        "    return helper\n",
        "error_fn = Error(df)\n",
        "\n",
        "ms = np.linspace(param[0]-1, param[0] + 1, 200)\n",
        "cs = np.linspace(param[1]-500, param[1] + 500, 2000)\n",
        "M, C = np.meshgrid(ms, cs)\n",
        "Z = error_fn(M, C)\n",
        "fig = plt.figure()\n",
        "ax = Axes3D(fig)\n",
        "ax.view_init(elev=10., azim=60)\n",
        "cset = ax.contour(M, C, Z, 100, cmap=cm.coolwarm,linewidth=0, antialiased=False)\n",
        "fig.colorbar(cset, shrink=0.5, aspect=5)\n",
        "plt.show()\n",
        "cset = ax.contour(M, C, Z)\n",
        "plt.show()\n"
      ],
      "execution_count": null,
      "outputs": [
        {
          "output_type": "stream",
          "text": [
            "/usr/local/lib/python2.7/dist-packages/ipykernel_launcher.py:14: DeprecationWarning: Calling np.sum(generator) is deprecated, and in the future will give a different result. Use np.sum(np.fromiter(generator)) or the python sum builtin instead.\n",
            "  \n",
            "/usr/local/lib/python2.7/dist-packages/matplotlib/contour.py:1004: UserWarning: The following kwargs were not used by contour: 'linewidth'\n",
            "  s)\n"
          ],
          "name": "stderr"
        },
        {
          "output_type": "display_data",
          "data": {
            "image/png": "[encoded data removed]",
            "text/plain": [
              "<Figure size 432x288 with 2 Axes>"
            ]
          },
          "metadata": {
            "tags": []
          }
        }
      ]
    },
    {
      "cell_type": "code",
      "metadata": {
        "id": "N0Gh-Qhwe-jn",
        "colab": {
          "base_uri": "https://localhost:8080/"
        },
        "outputId": "3c65bc72-1143-4cea-918f-d4582ed0009f"
      },
      "source": [
        "fig, ax = plt.subplots()\n",
        "ax.set_ylim(3000,5000)\n",
        "plt.contour(M, C, Z)\n",
        "\n",
        "plt.show()"
      ],
      "execution_count": null,
      "outputs": [
        {
          "output_type": "display_data",
          "data": {
            "image/png": "[encoded data removed]",
            "text/plain": [
              "<Figure size 432x288 with 1 Axes>"
            ]
          },
          "metadata": {
            "tags": []
          }
        }
      ]
    },
    {
      "cell_type": "markdown",
      "metadata": {
        "id": "xXphlzhDe-jq"
      },
      "source": [
        "Lets revist, the line $y = mx + c$. This can be written as\n",
        "$$\\Rightarrow y = w_0 + w_1x$$\n",
        "where $w_0$ is $1$ and $w_1$ is $m$. We will continue to use this notation and call them weight(s).\n",
        "$$\n",
        "\\Rightarrow y = \\left(\\begin{array}{cc}\n",
        "w_0\\\\\n",
        "w_1\\\\\n",
        "\\end{array}\\right)^T\n",
        "\\left(\\begin{array}{cc}\n",
        "1\\\\\n",
        "x\n",
        "\\end{array}\\right)\n",
        "$$\n",
        "\n",
        "We collected sample data prices ${y^1, y^2, y^3 \\dots y^n}$ for various apartment sizes ${x^1, x^2, x^3 \\dots x^n}$. Each of them we can represent in the above matrix notation as\n",
        "$$ \\Rightarrow \\left(\\begin{array}{cc}\n",
        "y^1 & y^2 & \\dots & y^n\n",
        "\\end{array}\\right) = \\left(\\begin{array}{cc}\n",
        "w_0\\\\\n",
        "w_1\n",
        "\\end{array}\\right)^T\n",
        "\\left(\\begin{array}{cc}\n",
        "x_0^1 & x_0^2 & \\dots & x_0^n \\\\\n",
        "x_1^1 & x_1^2 & \\dots & x_1^n\n",
        "\\end{array}\\right)\n",
        "$$\n",
        "In our last excercise, we were trying various `m` and `c`, denoted by $W$ and calculating the predicted $\\hat y$ that minimized the loss or error. If we represent all these values by superscript `i` then we can rewrite the expression as\n",
        "$$\n",
        "\\Rightarrow \\left(\\begin{array}{cc}\n",
        "y_0 \\\\\n",
        "y_1 \\\\\n",
        "\\vdots\\\\\n",
        "y_m\n",
        "\\end{array}\\right) = \\left(\\begin{array}{cc}\n",
        "w_0^0 & w_0^1 & w_0^2 \\dots & w_0^m\\\\\n",
        "w_1^0 & w_1^1 & w_1^1 \\dots & w_1^m\\\\\n",
        "\\end{array}\\right)^T\n",
        "\\left(\\begin{array}{cc}\n",
        "1\\\\\n",
        "x\n",
        "\\end{array}\\right)\n",
        "$$\n",
        "\n",
        "Similarly, we can extent our problem by considering there can be other parameters that controls housing price aka Zones, Builder, Amenities among others. If we represent each of them with the variable $x_i$ where the subscript indicates one of the various parameters, then our expression generalizes to\n",
        "$$\n",
        "\\Rightarrow \\left(\\begin{array}{cc}\n",
        "y_0^0 & y_0^1 & \\dots & y_0^k\\\\\n",
        "y_1^0 & y_1^1 & \\dots & y_1^k\\\\\n",
        "\\vdots\\\\\n",
        "y_m^0 & y_m^1 & \\dots & y_m^k\n",
        "\\end{array}\\right) = \\left(\\begin{array}{cc}\n",
        "w_0^0 & w_0^1 & w_0^2 \\dots & w_0^m\\\\\n",
        "w_1^0 & w_1^1 & w_1^1 \\dots & w_1^m\\\\\n",
        "\\vdots & \\vdots & \\vdots \\ddots & \\vdots\\\\\n",
        "w_n^0 & w_n^1 & w_n^1 \\dots & w_1^m\\\\\n",
        "\\end{array}\\right)^T\n",
        "\\left(\\begin{array}{cc}\n",
        "1 & 1 & \\dots & 1\\\\\n",
        "x_1^0 & x_1^1 & \\dots & x_1^k\\\\\n",
        "\\vdots\\\\\n",
        "x_n^0 & x_n^1 & \\dots & x_n^k\n",
        "\\end{array}\\right)\n",
        "$$\n",
        "in concise form, we can write it as\n",
        "$$\\Rightarrow Y = W^TX$$\n",
        "And thus we end up an expression with multiple variables and a transformation thereoff. The Branch of mathematics that deals with multi-variable spaces and linear transformations between them is called **__Linear Algebra__**"
      ]
    },
    {
      "cell_type": "markdown",
      "metadata": {
        "id": "XSBslMK-e-jr"
      },
      "source": [
        "Revisiting the contour, we appreciate the fact that, to reach the nadir, we can start from some random position within the contour and take baby steps towards the direction that gradually reduces the error function $\\sum_{i=1}^{n}{\\left(\\hat{y}_i - y_i\\right)}^2$. To determine in which direction to move that eventually reduces the loss, we have to calculate the gradiant of the error function. This gradiant is incrementally reduced from the randomly chosen position (weight) until we reach a position we cannot reach further. This process is called *Gradiant Descent*. In order to calculate the gradiant, as we have rightly guessed we end up with **Calculus**\n"
      ]
    },
    {
      "cell_type": "markdown",
      "metadata": {
        "id": "0HmVeRfUe-jr"
      },
      "source": [
        "Note in general, for OLS (Lineaer Regression), we determine the average of error for all observation. The mean is halfed, to simply the derivative. It is a constant scaling factor which will not impact the result\n",
        "\n",
        "$$J(\\theta_0, \\theta_1) = \\frac{1}{2m}\\sum\\limits_{i=1}^{m}(\\hat{y}_i - y_i)^2 = \\frac{1}{2m}\\sum\\limits_{i=1}^{m}(h_\\theta(x_i) - y_i)^2$$\n",
        "\n",
        "$$\\frac{\\partial}{\\partial \\theta_j} J(\\theta) = (h_\\theta(x) - y)x_j$$\n",
        "\n",
        "So, assuming the cost function to be convex, we can define the gradiant descent as\n",
        "$$\\text{Repeat }\\{\\theta_j = \\theta_j - \\alpha \\frac{\\partial}{\\partial{\\theta_j}}J(\\theta)\\}$$\n",
        "where $\\alpha$ is the learning rate"
      ]
    },
    {
      "cell_type": "markdown",
      "metadata": {
        "id": "H-rTVI4Ze-js"
      },
      "source": [
        "Let's extent the example and try to classify our house based on prime vs non-prime. We are no more trying to predict a value but rather would determine the probability that based on various parameters we need to get a score, that gives a measure of likelihood on a house to be a prime property. Instead of calculating the value, we are predicting the probability of an occurance. The probability ranges between 0 and 1, so we need to introduce a threshold beyond which we would classify an appartment as prime."
      ]
    },
    {
      "cell_type": "code",
      "metadata": {
        "id": "IVgrgD9-e-ju",
        "colab": {
          "base_uri": "https://localhost:8080/"
        },
        "outputId": "91573042-ed33-44c8-8ebc-a9e43bcdd9b2"
      },
      "source": [
        "import numpy as np\n",
        "import matplotlib.pyplot as plt\n",
        "sigmoid = lambda x: 1 / (1 + np.exp(-x))\n",
        "linear = lambda x: 0.07*x + 0.5\n",
        "x=np.linspace(-1,10,100)\n",
        "plt.plot(x,sigmoid(x),'r', label='logistic')\n",
        "plt.plot(x,linear(x),'b', label='linear')\n",
        "plt.grid()\n",
        "\n",
        "plt.text(4,0.8,r'$\\sigma(x)=\\frac{1}{1+e^{-x}}$',fontsize=15)\n",
        "\n",
        "plt.axhline(y=0, color='k')\n",
        "plt.axvline(x=0, color='k')\n",
        "plt.legend(loc='lower right')\n",
        "\n",
        "plt.show()"
      ],
      "execution_count": null,
      "outputs": [
        {
          "output_type": "display_data",
          "data": {
            "image/png": "[encoded data removed]",
            "text/plain": [
              "<Figure size 432x288 with 1 Axes>"
            ]
          },
          "metadata": {
            "tags": []
          }
        }
      ]
    },
    {
      "cell_type": "markdown",
      "metadata": {
        "id": "rrtW9Fkqe-jw"
      },
      "source": [
        "So, Machine Learning consist of Statistics, Probability, Linear Algebra and Calculus.\n",
        "* Calculus tells us how to optimize\n",
        "* Linear Algebra is used for but not limitted to\n",
        "    * Data-exploration, cleaning and enrichments\n",
        "    * One-Hot Encoding\n",
        "    * Linear Regression\n",
        "    * Regularization\n",
        "    * Principal Component Analysis\n",
        "    * Singular-Value Decomposition\n",
        "    * Latent Semantic Analysis\n",
        "    * Recommender Systems\n",
        "    * Parallizes algorithms during Deep Learning.\n",
        "* Probability Predicts likely outcome\n",
        "* Statistics gives us insights and tells us about our goal."
      ]
    },
    {
      "cell_type": "markdown",
      "metadata": {
        "id": "Fto9DpUme-jw"
      },
      "source": [
        "#### Quick Excercise\n",
        "What branch of mathametics is likely required for the following\n",
        "* ML ready data?\n",
        "* Transforming data and extracting features?\n",
        "*  Building Models?\n",
        "*  Optimization?"
      ]
    },
    {
      "cell_type": "markdown",
      "metadata": {
        "id": "9dD-O3OYe-jx"
      },
      "source": [
        "# MATH\n",
        "## Lecture 1: The Resulting Syllabus"
      ]
    },
    {
      "cell_type": "markdown",
      "metadata": {
        "id": "cyxvH8SMe-jx"
      },
      "source": [
        "## Week 1 - Vectors and Matrices\n",
        "* Concept of a vector and notation\n",
        "* Geometry of vectors\n",
        "* Vector norms: $L_1, L_2, L_\\infty$"
      ]
    },
    {
      "cell_type": "markdown",
      "metadata": {
        "id": "pl7rgQPoe-jy"
      },
      "source": [
        "# MATH\n",
        "## Lecture 1: Vectors and Matrices"
      ]
    },
    {
      "cell_type": "markdown",
      "metadata": {
        "id": "0q2JXJDVe-jz"
      },
      "source": [
        "### Definition\n",
        "\n",
        "#### Vector vs Scalar\n",
        "Both **Vector** and **Scalar** are quanity as in, it as a magnitude but unlike scalar, vector has an associated direction. So, a vector not only tells, how far an object is, how fast it is moving but gives an insight on to where the object or where it is heading to.\n",
        "\n",
        "__Some examples__\n",
        "\n",
        "| Scalar                 |Vector                         |\n",
        "| ---------------------- |:-----------------------------:|\n",
        "| Time(s)                |Accelaration ($\\frac{m}{s^2}$) |\n",
        "| Speed($\\frac{m}{s}$)   |Velocity ($\\frac{m}{s}$)        |\n",
        "| Distance(m)            |Displacement                  \n",
        "| Energy(j)              |Force(N)\n",
        "\n",
        "\n",
        "In a multivariate space, every position w.r.t an implied origin or another position, has a distance associated (how far point1 is w.r.t origin / point2), and at which direction that point is. As features in ML is represented as a position in the multivariate space, the feature is represented as a vector.\n",
        "\n",
        "#### Representing Vector\n",
        "##### Mathamatically\n",
        "A vector is represented as a sequence of scalar quanitities called components each represented as **Column** or **Row** vectors\n",
        "\n",
        "**Column Vectors**\n",
        "\n",
        "The components of the Vector are stacked one below the other as a column\n",
        "$$\\left(\\begin{array}{cc}\n",
        "x_0\\\\\n",
        "x_1\\\\\n",
        "\\vdots\\\\\n",
        "x_n\n",
        "\\end{array}\\right)\n",
        "$$\n",
        "Alternatively, it can also be represented as a row with a transpose.\n",
        "$$\\left(\\begin{array}{cc}\n",
        "x_0 & x_1 & \\dots & x_n\n",
        "\\end{array}\\right)^T\n",
        "$$\n",
        "Example\n",
        "$$\\vec{v} = \\left(\\begin{array}{cc}\n",
        "1\\\\\n",
        "2\\\\\n",
        "3\n",
        "\\end{array}\\right)\n",
        "$$\n",
        "\n",
        "**Row Vectors**\n",
        "\n",
        "The components of the Vector are placed one next to the other in a single row\n",
        "\n",
        "$$\\left(\\begin{array}{cc}\n",
        "x_0 & x_1 & \\dots & x_n\n",
        "\\end{array}\\right)\n",
        "$$\n",
        "Alternatively, it can also be represented as a row with a transpose.\n",
        "$$\\left(\\begin{array}{cc}\n",
        "x_0\\\\\n",
        "x_1\\\\\n",
        "\\vdots\\\\\n",
        "x_n\n",
        "\\end{array}\\right)^T\n",
        "$$\n",
        "\n",
        "Example\n",
        "$$\\vec{w} = \\left(\\begin{array}{cc}\n",
        "1 & 7 & 0 & 1\n",
        "\\end{array}\\right)\n",
        "$$\n",
        "\n",
        "**Dimensions**\n",
        "The dimension of a vector is the cardinality of the vector.\n",
        "$$dim(\\vec{v}) = 3$$\n",
        "$$dim(\\vec{w}) = 4$$"
      ]
    },
    {
      "cell_type": "markdown",
      "metadata": {
        "id": "tNuyKo2Ee-jz"
      },
      "source": [
        "> We will see next lecture that it is useful to keep row and column vectors separated for distinct purposes (namely one for data andone for defining weights for weighted sums).  Every person makes their  own  choice  of  one  versus  the  other,  in  this  class  we  will take  the  choice  that  data  vectors  are  columns,  and  weights  arerows.  Other classes in MLU will make the opposite choice, so stay flexible!"
      ]
    },
    {
      "cell_type": "markdown",
      "metadata": {
        "id": "24JYD1qte-j0"
      },
      "source": [
        "> Row and column vectors are types of matrices (1 X n and n X 1respectively).   A  matrix  can  also  be  thought  of  as  an  ordered collection of row vectors, or column vectors depending on context"
      ]
    },
    {
      "cell_type": "markdown",
      "metadata": {
        "id": "HkSvY9dje-j0"
      },
      "source": [
        "##### Geometrically\n",
        "If the number of components, vectors can be visualized as an arrow. The length of the arrow indicates the magnitude and the direction of the arrow is the direction of the vector."
      ]
    },
    {
      "cell_type": "code",
      "metadata": {
        "id": "bRx_XgJ6e-j0"
      },
      "source": [
        "import numpy as np\n",
        "import matplotlib.pyplot as plt\n",
        "def gen_arrows(*args):\n",
        "    from operator import itemgetter\n",
        "    args = list(zip(*args))\n",
        "    try:\n",
        "        X, Y = zip(*itemgetter(0)(args))\n",
        "    except TypeError:\n",
        "        U, V = args\n",
        "        X = Y = (0,) * len(U)\n",
        "    else:\n",
        "        U, V = zip(*itemgetter(1)(args))\n",
        "    return X, Y, U, V\n",
        "\n",
        "\n",
        "def gen_limits(*args):\n",
        "    print(args)\n",
        "    args = np.asarray(args)\n",
        "    maxes = np.amax(abs(args), axis = 0)\n",
        "    print(maxes)\n",
        "    if len(maxes.shape) > 1:\n",
        "        maxes = 1.5*np.amax(maxes, axis=0)\n",
        "    maxes = np.ceil(maxes / 5) * 5\n",
        "    xlim = (-maxes[0], maxes[0])\n",
        "    ylim = (-maxes[1], maxes[1])\n",
        "    return xlim, ylim\n",
        "\n",
        "def draw_vectors(**kwargs):\n",
        "    keys = list(kwargs.keys())\n",
        "    args = list(kwargs.values())\n",
        "    plt.grid(b=True, which='major')\n",
        "    plt.axhline(y=0, color='k')\n",
        "    plt.axvline(x=0, color='k')\n",
        "    X, Y, U, V = gen_arrows(*args)\n",
        "    xlim, ylim = gen_limits(*args)\n",
        "    plt.ylim(*ylim)\n",
        "    plt.xlim(*xlim)\n",
        "    qv = plt.quiver(X, Y, U, V, color=['r','b','g'] , angles='xy', scale_units='xy', scale=1)\n",
        "    for x, y, u, v, key in zip(X, Y, U, V, keys):\n",
        "        x0 = (x + u) / 2\n",
        "        y0 = (y + v) / 2\n",
        "        plt.quiverkey(qv, x0, y0, U = 0,label =  \"%s\"%key, coordinates = 'data')\n",
        "    plt.show()\n",
        "\n",
        "def add_displacement(*args):\n",
        "    args = list(args)\n",
        "    for i in range(len(args) - 1, -1, -1):\n",
        "        args[i] = np.array([args[i - 1] if i else np.zeros(2), args[i]])\n",
        "    return args"
      ],
      "execution_count": null,
      "outputs": []
    },
    {
      "cell_type": "code",
      "metadata": {
        "id": "jrYxg-Ywe-j2",
        "colab": {
          "base_uri": "https://localhost:8080/"
        },
        "outputId": "603b9458-5625-4420-f637-c461828bed3e"
      },
      "source": [
        "u = [(-1,1), (-9, 7)]\n",
        "v = [(-2,-5), (-6, -8)]\n",
        "draw_vectors(u=u, v=v)"
      ],
      "execution_count": null,
      "outputs": [
        {
          "output_type": "stream",
          "text": [
            "([(-1, 1), (-9, 7)], [(-2, -5), (-6, -8)])\n",
            "[[2 5]\n",
            " [9 8]]\n"
          ],
          "name": "stdout"
        },
        {
          "output_type": "display_data",
          "data": {
            "image/png": "[encoded data removed]",
            "text/plain": [
              "<Figure size 432x288 with 1 Axes>"
            ]
          },
          "metadata": {
            "tags": []
          }
        }
      ]
    },
    {
      "cell_type": "markdown",
      "metadata": {
        "id": "P-4NL9GWe-j3"
      },
      "source": [
        "#### Magnitude & Direction\n",
        "The magnitude of the vector $\\vec{v} = \\left(v_0, v_1, v_2, \\dots, v_n\\right)^T$, represented as $\\|\\vec{v}\\|$ is the eucidian length of the vector.\n",
        "\n",
        "For vectors, without an initial point, the zero vector is the default initial point. So for the vector $\\vec{v}$, the magnitude is\n",
        "$$\\sqrt{(v_0 - 0)^2 + (v_1 - 0)^2 + (v_2 - 0) + \\dots + (v_n - 0)^2}\n",
        "= \\sqrt{v_0^2 + v_1^2 + v_2 + \\dots + v_n^2}\n",
        "$$\n",
        "For vectors, without an initial point $\\vec{u} = \\left(u_0, u_1, u_2, \\dots, u_n\\right)^T$, the magnitude is\n",
        "$$\\sqrt{(v_0 - u_0)^2 + (v_1 - u_0)^2 + (v_2 - u_0) + \\dots + (v_n - u_0)^2}$$\n",
        "\n",
        "The direction of the vector $\\vec{v}$ w.r.t $\\vec{u}$ is $\\arccos\\left(\\frac{\\vec{v} . \\vec{u}}{\\|\\vec{u}\\|\\|\\vec{v}\\|}\\right)$\n",
        "\n",
        "**Note** *We will revisit it, when we would cover vector operations*"
      ]
    },
    {
      "cell_type": "markdown",
      "metadata": {
        "id": "aXhpDmmte-j4"
      },
      "source": [
        "#### Equivalence\n",
        "Vector has an associated scalar quanity called magnitude and a direction. Two vectors are considered to be equivalent, if both the magnitude and directions are same."
      ]
    },
    {
      "cell_type": "code",
      "metadata": {
        "id": "RgRins-Ue-j4",
        "colab": {
          "base_uri": "https://localhost:8080/"
        },
        "outputId": "13fc4fd3-268f-4a76-86de-01abb1b0e90a"
      },
      "source": [
        "u = [(1,1), (7, 7)]\n",
        "v = [(4,3), (10, 9)]\n",
        "draw_vectors(u=u, v=v)"
      ],
      "execution_count": null,
      "outputs": [
        {
          "output_type": "stream",
          "text": [
            "([(1, 1), (7, 7)], [(4, 3), (10, 9)])\n",
            "[[ 4  3]\n",
            " [10  9]]\n"
          ],
          "name": "stdout"
        },
        {
          "output_type": "display_data",
          "data": {
            "image/png": "[encoded data removed]",
            "text/plain": [
              "<Figure size 432x288 with 1 Axes>"
            ]
          },
          "metadata": {
            "tags": []
          }
        }
      ]
    },
    {
      "cell_type": "markdown",
      "metadata": {
        "id": "TKWX5ZHWe-j7"
      },
      "source": [
        "**The following vectors are not equivalent as they differ by both direction and magnitude**"
      ]
    },
    {
      "cell_type": "code",
      "metadata": {
        "id": "Modpa0kYe-j7",
        "colab": {
          "base_uri": "https://localhost:8080/"
        },
        "outputId": "4c342f9d-c74e-42f0-b3f7-959951abfab9"
      },
      "source": [
        "u = [(-1,1), (-9, 7)]\n",
        "v = [(-2,-5), (-6, -8)]\n",
        "draw_vectors(u=u, v=v)"
      ],
      "execution_count": null,
      "outputs": [
        {
          "output_type": "stream",
          "text": [
            "([(-1, 1), (-9, 7)], [(-2, -5), (-6, -8)])\n",
            "[[2 5]\n",
            " [9 8]]\n"
          ],
          "name": "stdout"
        },
        {
          "output_type": "display_data",
          "data": {
            "image/png": "[encoded data removed]",
            "text/plain": [
              "<Figure size 432x288 with 1 Axes>"
            ]
          },
          "metadata": {
            "tags": []
          }
        }
      ]
    },
    {
      "cell_type": "markdown",
      "metadata": {
        "id": "0uXkxYnJe-j-"
      },
      "source": [
        "**The following vectors are not equivalent as though they have same magnitude, but the directions are different**"
      ]
    },
    {
      "cell_type": "code",
      "metadata": {
        "id": "7x8nYIqhe-j_",
        "colab": {
          "base_uri": "https://localhost:8080/"
        },
        "outputId": "9d801a1f-53fe-45a2-a63f-caac2dc83748"
      },
      "source": [
        "u = [(-1,1), (-9, 7)]\n",
        "v = [(-1,-1), (-9, -7)]\n",
        "draw_vectors(u=u, v=v)"
      ],
      "execution_count": null,
      "outputs": [
        {
          "output_type": "stream",
          "text": [
            "([(-1, 1), (-9, 7)], [(-1, -1), (-9, -7)])\n",
            "[[1 1]\n",
            " [9 7]]\n"
          ],
          "name": "stdout"
        },
        {
          "output_type": "display_data",
          "data": {
            "image/png": "[encoded data removed]",
            "text/plain": [
              "<Figure size 432x288 with 1 Axes>"
            ]
          },
          "metadata": {
            "tags": []
          }
        }
      ]
    },
    {
      "cell_type": "markdown",
      "metadata": {
        "id": "Iv2uE5cKe-kC"
      },
      "source": [
        "**The following vectors are not equivalent as though they have same direction, but the magnitudes are different**"
      ]
    },
    {
      "cell_type": "code",
      "metadata": {
        "id": "O-6WVrNAe-kD",
        "colab": {
          "base_uri": "https://localhost:8080/"
        },
        "outputId": "ca755c99-a1b0-43be-8c53-a5857bb06805"
      },
      "source": [
        "u = [(-1,1), (-4, 4)]\n",
        "v = [(2,3), (-8, 9)]\n",
        "draw_vectors(u=u, v=v)\n"
      ],
      "execution_count": null,
      "outputs": [
        {
          "output_type": "stream",
          "text": [
            "([(-1, 1), (-4, 4)], [(2, 3), (-8, 9)])\n",
            "[[2 3]\n",
            " [8 9]]\n"
          ],
          "name": "stdout"
        },
        {
          "output_type": "display_data",
          "data": {
            "image/png": "[encoded data removed]",
            "text/plain": [
              "<Figure size 432x288 with 1 Axes>"
            ]
          },
          "metadata": {
            "tags": []
          }
        }
      ]
    },
    {
      "cell_type": "markdown",
      "metadata": {
        "id": "B10VWLBbe-kF"
      },
      "source": [
        "#### Matrices\n",
        "Matrices are rectangular representation of numbers, expressions or symbols arranged in rows and columns. The matrix is a two dimensional entity with s hape $M \\times N$, where M is the row count and N is the column count.\n",
        "The following matrix is a $2 \\times 3$ matrix as there are two rows and 3 columns.\n",
        "$$\n",
        "\\left(\\begin{array}{cc}\n",
        "2 & 3 & 4\\\\\n",
        "1 & 2 & 3\n",
        "\\end{array}\\right)\n",
        "$$\n",
        "Each element of a matrix is denoted by $a_{ij}$, where `i` is the row number and `j` is the column number.\n",
        "In Machine Learning, Matrix is used to represent collection of vectors. Most common representation is columna vector stacked sequentially in a row\n",
        "$$\n",
        "\\left(\\begin{array}{cc}\n",
        "w_0^0 & w_0^1 & w_0^2 \\dots & w_0^m\\\\\n",
        "w_1^0 & w_1^1 & w_1^1 \\dots & w_1^m\\\\\n",
        "\\vdots & \\vdots & \\vdots \\ddots & \\vdots\\\\\n",
        "w_n^0 & w_n^1 & w_n^1 \\dots & w_1^m\\\\\n",
        "\\end{array}\\right)\n",
        "$$\n",
        "\n",
        "For an element of this matrix $w_i^j$$, the superscript `j` denote the $j^{th}$ vector and the subscript `i` denote the $i^{ith}$ component of the vector `i`. So the above can be equivalently conceived as\n",
        "$$\\left(\\begin{array}{cc}\\vec{v^0} & \\vec{v^1} & \\vec{v^2} \\dots \\vec{v^n}\n",
        "\\end{array}\\right) $$\n",
        "$$\n",
        "\\left(\\begin{array}{cc}\n",
        "\\left(\\begin{array}{cc}w_0^0 \\\\\n",
        "w_1^0 \\\\\n",
        "\\vdots \\\\\n",
        "w_1^0\n",
        "\\end{array}\\right) & \\left(\\begin{array}{cc}w_0^1 \\\\\n",
        "w_1^1 \\\\\n",
        "\\vdots \\\\\n",
        "w_1^1\n",
        "\\end{array}\\right) & \\left(\\begin{array}{cc}w_0^2 \\\\\n",
        "w_1^2 \\\\\n",
        "\\vdots \\\\\n",
        "w_1^2\n",
        "\\end{array}\\right) & \\dots & \\left(\\begin{array}{cc}w_0^n \\\\\n",
        "w_1^n \\\\\n",
        "\\vdots \\\\\n",
        "w_1^n\n",
        "\\end{array}\\right)\n",
        "\\end{array}\\right)\n",
        "$$\n"
      ]
    },
    {
      "cell_type": "markdown",
      "metadata": {
        "id": "0R97I4c2e-kF"
      },
      "source": [
        "# MATH\n",
        "## Lecture 1: Vectors and Matrices"
      ]
    },
    {
      "cell_type": "markdown",
      "metadata": {
        "id": "aKg-pfcWe-kF"
      },
      "source": [
        "### Vector Operations"
      ]
    },
    {
      "cell_type": "markdown",
      "metadata": {
        "id": "ljNe9maYe-kG"
      },
      "source": [
        "#### Addition and Subtracttion & the zero vector\n",
        "\n",
        "Addition and Subtraction of two same dimension vectors are the component/element wise addition/subtraction of the vectors.\n",
        "\n",
        "Consider two vectors\n",
        "\n",
        "$$\\vec U = \\left(\\begin{array}{cc}\n",
        "u_0\\\\\n",
        "u_1\\\\\n",
        "u_2\\\\\n",
        "\\vdots\\\\\n",
        "u_n\n",
        "\\end{array}\\right),\n",
        "\\vec V = \\left(\\begin{array}{cc}\n",
        "v_0\\\\\n",
        "v_1\\\\\n",
        "v_2\\\\\n",
        "\\vdots\\\\\n",
        "v_n\n",
        "\\end{array}\\right)\n",
        "$$\n",
        "Then\n",
        "$$\n",
        "\\Rightarrow \\vec U + \\vec V = \\left(\\begin{array}{cc}\n",
        "u_0 + v_0\\\\\n",
        "u_1 + v_0\\\\\n",
        "u_2 + v_0\\\\\n",
        "\\vdots\\\\\n",
        "u_n + v_n\n",
        "\\end{array}\\right)\n",
        "$$\n",
        "$$\n",
        "\\Rightarrow \\vec U - \\vec V = \\left(\\begin{array}{cc}\n",
        "u_0 - v_0\\\\\n",
        "u_1 - v_0\\\\\n",
        "u_2 - v_0\\\\\n",
        "\\vdots\\\\\n",
        "u_n - v_n\n",
        "\\end{array}\\right)$$"
      ]
    },
    {
      "cell_type": "code",
      "metadata": {
        "id": "1wUsWKwve-kG",
        "colab": {
          "base_uri": "https://localhost:8080/"
        },
        "outputId": "524b8414-6dc0-46cb-d338-431087bb9798"
      },
      "source": [
        "u = np.asarray((3, 3))\n",
        "v = -np.asarray((4,- 9))\n",
        "w = u + v\n",
        "print(u, v, w)\n",
        "u, v = add_displacement(u, v)\n",
        "w = np.array([u[0], w])\n",
        "draw_vectors(u=u, v=v,w=w)"
      ],
      "execution_count": null,
      "outputs": [
        {
          "output_type": "stream",
          "text": [
            "(array([3, 3]), array([-4,  9]), array([-1, 12]))\n",
            "(array([[0., 0.],\n",
            "       [3., 3.]]), array([[ 0.,  0.],\n",
            "       [-1., 12.]]), array([[ 3,  3],\n",
            "       [-4,  9]]))\n",
            "[[ 3.  3.]\n",
            " [ 4. 12.]]\n"
          ],
          "name": "stdout"
        },
        {
          "output_type": "display_data",
          "data": {
            "image/png": "[encoded data removed]",
            "text/plain": [
              "<Figure size 432x288 with 1 Axes>"
            ]
          },
          "metadata": {
            "tags": []
          }
        }
      ]
    },
    {
      "cell_type": "markdown",
      "metadata": {
        "id": "qhs-YpPSe-kI"
      },
      "source": [
        "#### Scalar multiplication\n",
        "To recollect, scalar is a quantity which has magnitude but no direction. Multiplying a scalar quantity with a vector, involves multiplying each of the component of the vector. Notably,\n",
        "if $\\vec V = \\left(v_0, v_1, v_2, \\dots, v_n\\right)^T$ and `p` is a scalar quantity, then\n",
        "\n",
        "$p \\cdot \\vec v = \\left(p \\cdot v_0, p \\cdot v_1, p \\cdot v_2, \\dots, p \\cdot v_n\\right)^T$\n",
        "As a scalar quantity has no direction, so multiplying a vector by a scalar quantity only changes the magnitude, leaving the direction intact.\n",
        "\n",
        "**Example**\n",
        "\n",
        "$\\vec V = \\left(3, 1, 4\\right)$ and $p = 2$ then $p \\cdot \\vec V = \\left(6, 2, 8\\right)$\n",
        "\n",
        "**Question**\n",
        "Vector $\\vec v = \\left(x, y\\right)$ and $\\|\\vec v\\|=10$\n",
        "\n",
        "**Find the value of**\n",
        "\n",
        "Vector $\\vec w = \\left(\\frac{3}{4}x,\\frac{3}{4}y\\right)$, so $\\|\\vec w\\|= ?$\n",
        "\n",
        "Vector $\\vec z = \\left(-\\frac{2}{5}x,-\\frac{2}{5}y\\right)$, so $\\|\\vec z\\|= ?$\n",
        "\n",
        "**Match each vector defined above to a vector that could be its equivalent.**\n",
        "\n",
        "$$\n",
        "\\begin{array}{|c|c|c|c|}\n",
        "\\hline\n",
        "1& \\vec v & \\LARGE \\leftarrow \\\\ \\hline\n",
        "2& \\vec w & \\Huge \\leftarrow \\\\ \\hline\n",
        "3& \\vec z & \\rightarrow \\\\ \\hline\n",
        "\\end{array}\n",
        "$$"
      ]
    },
    {
      "cell_type": "markdown",
      "metadata": {
        "id": "CQ8Z9A8he-kI"
      },
      "source": [
        "#### Transpose\n",
        "Transpose of a matrix, flips the matrix over its diagonal $\\because$, if $a_{ij}$ is an element of a matrix `P` with dimension $M \\times N$ then, transposing `P` would yield a new Matrix $P^T$ of dimension $N \\times M$ where $a_{ij} = a_{ji}$\n",
        "Since, a vector is a 2-dimensional matrix where one of the dimension is one, transposing a vector, simply flips it such that, a row vector changes to a column vector or vice versa.\n",
        "It can easily be observed that the transpose operation is an involution (self inverse) $\\because \\left(A^T\\right)^T = A$\n",
        "\n",
        "**Example**\n",
        "$$\n",
        "P = \\left(\\begin{array}{cc}\n",
        "1 & 3 & 5\\\\\n",
        "2 & 4 & 6\n",
        "\\end{array}\\right)\n",
        "\\text{ then }, P^T =\n",
        "\\left(\\begin{array}{cc}\n",
        "1 & 2\\\\\n",
        "3 & 4\\\\\n",
        "5 & 6\n",
        "\\end{array}\\right)\n",
        "$$\n",
        "$$\n",
        "\\vec v = \\left(\\begin{array}{cc}\n",
        "1 & 3 & 5\n",
        "\\end{array}\\right)\n",
        "\\text{ then }, \\vec{v}^T =\n",
        "\\left(\\begin{array}{cc}\n",
        "1 \\\\\n",
        "3 \\\\\n",
        "5\n",
        "\\end{array}\\right)\n",
        "$$"
      ]
    },
    {
      "cell_type": "markdown",
      "metadata": {
        "id": "fMebLdzUe-kJ"
      },
      "source": [
        "### Vector Dot Product\n",
        "Vector Dot Product also known as Scalar Product of two vectors is an algebraic operation, that takes two same-dimension vectors and adds the element-wise inner products.\n",
        "If $\\vec u = (u_0, u_1, u_2, \\dots, u_n)$ and $\\vec v = (v_0, v_1, v_2, \\dots, v_n)$ then\n",
        "$\\vec u \\cdot \\vec v  = \\sum_{i=0}^{n}(u_i \\cdot v_i)$\n",
        "\n",
        "**Example**\n",
        "$\\vec u = (1, 2, 3)$ and $\\vec v = (3, 2, 1)$ then\n",
        "\n",
        "$\\vec u \\cdot \\vec v = (1 \\cdot 3 + 2 \\cdot 2 + 3 \\cdot 1) = 10$\n",
        "\n",
        "Alternatively, the scalar product is the product of the magnitudes of the vectors and the cosine of the smallest angle between them. So,\n",
        "\n",
        "$\\vec u \\cdot \\vec v = \\|\\vec u\\|\\cdot\\|\\vec v\\|\\cdot \\cos(\\theta) \\tag{1}$"
      ]
    },
    {
      "cell_type": "markdown",
      "metadata": {
        "id": "ZmOCwTXZe-kJ"
      },
      "source": [
        "# MATH\n",
        "## Lecture 1: Geometry of Column Vectors"
      ]
    },
    {
      "cell_type": "markdown",
      "metadata": {
        "id": "yWiuL-2re-kK"
      },
      "source": [
        "#### Vectors as directions\n",
        "\n",
        "From the above formulation, we can rewrite (1) as\n",
        "\n",
        "$$\\vec u \\cdot \\vec v = \\|\\vec u\\|\\cdot\\|\\vec v\\|\\cdot \\cos(\\theta) \\tag{1}$$\n",
        "$$\\Rightarrow \\cos(\\theta) = \\frac{\\vec u \\cdot \\vec v}{\\|\\vec u\\|\\cdot\\|\\vec v\\|}\\tag{2}$$\n",
        "\n",
        "We can verify (2) trivially for a two-dimensional vectors. Let $\\vec u = (2, 4)$ and $\\vec v = (4, 2)$ then from (2)\n",
        "$$\\Rightarrow \\cos(\\theta) = \\frac{\\vec u \\cdot \\vec v}{\\|\\vec u\\|\\cdot\\|\\vec v\\|}$$\n",
        "$$\\Rightarrow \\cos(\\theta) = \\frac{(2 \\cdot 4 + 4 \\cdot 2)}{\\sqrt{2^2 + 4^2} \\cdot \\sqrt{2^2 + 4^2}}\\tag{2}$$\n",
        "$$\\Rightarrow \\cos(\\theta) = \\frac{(2 \\cdot 4 + 4 \\cdot 2)}{\\sqrt{(2^2 + 4^2)} \\cdot \\sqrt{2^2 + 4^2}}\\tag{2}$$\n",
        "$$\\Rightarrow \\cos(\\theta) = \\frac{16}{\\sqrt{20} \\cdot \\sqrt{20}} = \\frac{16}{\\sqrt{20^2}} = \\frac{16}{20} = \\frac{4}{5}$$\n",
        "$$\\theta = \\cos^{-1}{\\frac{4}{5}}$$\n",
        "\n",
        "**Proof for a two dimensional vector space**\n",
        "\n",
        "Let $\\vec a = \\|a\\|\\angle r$ where $\\|a\\|$ is the magnitude and theta is the direction\n",
        "Similarly $\\vec b = \\|b\\|\\angle$s\n",
        "\n",
        "In cartesian coordinates $\\vec a = (\\|a\\|\\cos r, \\|a\\|\\sin r)$ and $\\vec b = (\\|b\\|\\cos s, \\|b\\|\\sin s)$\n",
        "$$\\Rightarrow \\vec a \\cdot \\vec b = \\|a\\|\\cos r \\cdot \\|b\\|\\cos s + \\|a\\|\\sin r \\cdot \\|b\\|\\sin s$$\n",
        "$$\\Rightarrow \\vec a \\cdot \\vec b = \\|a\\|\\|b\\|(\\cos r\\cos s + \\sin r\\sin s)$$\n",
        "$$\\Rightarrow \\vec a \\cdot \\vec b = \\|a\\|\\|b\\|(\\cos r\\cos s + \\sin r\\sin s)$$\n",
        "$$\\Rightarrow \\vec a \\cdot \\vec b = \\|a\\|\\|b\\|\\cos (r - s)$$\n",
        "$$\\Rightarrow \\vec a \\cdot \\vec b = \\|a\\|\\|b\\|\\cos \\theta$$"
      ]
    },
    {
      "cell_type": "markdown",
      "metadata": {
        "id": "Frwwg0d5e-kK"
      },
      "source": [
        "#### Scalar multiplication"
      ]
    },
    {
      "cell_type": "code",
      "metadata": {
        "id": "cznZ01Gqe-kK",
        "colab": {
          "base_uri": "https://localhost:8080/"
        },
        "outputId": "b86cbaca-eca5-4c74-8846-91c5f5c75c5d"
      },
      "source": [
        "u = np.asarray((20, 40))\n",
        "q = 2\n",
        "v = 2 * u\n",
        "print(u, v)\n",
        "draw_vectors(u=u, v=v)"
      ],
      "execution_count": null,
      "outputs": [
        {
          "output_type": "stream",
          "text": [
            "(array([20, 40]), array([40, 80]))\n",
            "(array([20, 40]), array([40, 80]))\n",
            "[40 80]\n"
          ],
          "name": "stdout"
        },
        {
          "output_type": "stream",
          "text": [
            "/usr/local/lib/python2.7/dist-packages/matplotlib/quiver.py:624: RuntimeWarning: invalid value encountered in true_divide\n",
            "  lengths = np.hypot(*dxy.T) / eps\n"
          ],
          "name": "stderr"
        },
        {
          "output_type": "display_data",
          "data": {
            "image/png": "[encoded data removed]",
            "text/plain": [
              "<Figure size 432x288 with 1 Axes>"
            ]
          },
          "metadata": {
            "tags": []
          }
        }
      ]
    },
    {
      "cell_type": "markdown",
      "metadata": {
        "id": "ll-JGSMYe-kM"
      },
      "source": [
        "#### Addition as displacement\n",
        "Geometrically, vectors are considered as displacement. For two dimensional vectors, $\\vec U = \\left(1, 3\\right)$ and $\\vec V = \\left(8, 7\\right)$ then\n",
        "\n",
        "$\\vec U + \\vec V =$"
      ]
    },
    {
      "cell_type": "code",
      "metadata": {
        "id": "BbxJJ0wYe-kM",
        "colab": {
          "base_uri": "https://localhost:8080/"
        },
        "outputId": "fbea1ee0-f86d-466f-eaf8-dec21c76fac5"
      },
      "source": [
        "u = np.asarray((3, 3))\n",
        "v = np.asarray((4,- 9))\n",
        "w = u + v\n",
        "u, v = add_displacement(u, v)\n",
        "w = np.array([u[0], w])\n",
        "draw_vectors(u=u, v=v, w=w)"
      ],
      "execution_count": null,
      "outputs": [
        {
          "output_type": "stream",
          "text": [
            "(array([[0., 0.],\n",
            "       [3., 3.]]), array([[ 0.,  0.],\n",
            "       [ 7., -6.]]), array([[ 3,  3],\n",
            "       [ 4, -9]]))\n",
            "[[3. 3.]\n",
            " [7. 9.]]\n"
          ],
          "name": "stdout"
        },
        {
          "output_type": "display_data",
          "data": {
            "image/png": "[encoded data removed]",
            "text/plain": [
              "<Figure size 432x288 with 1 Axes>"
            ]
          },
          "metadata": {
            "tags": []
          }
        }
      ]
    },
    {
      "cell_type": "markdown",
      "metadata": {
        "id": "IX9BURaBe-kQ"
      },
      "source": [
        "#### Subtraction as mapping\n",
        "$(\\vec U -\\vec V) + \\vec V = \\vec U$"
      ]
    },
    {
      "cell_type": "code",
      "metadata": {
        "id": "v6asY2Yte-kR",
        "colab": {
          "base_uri": "https://localhost:8080/"
        },
        "outputId": "55364811-88ae-4549-a9a1-e45b4b8d7c8c"
      },
      "source": [
        "u = np.asarray((3, 3))\n",
        "v = -np.asarray((4,- 9))\n",
        "t = u + v\n",
        "z = t - v\n",
        "u, v = add_displacement(u, v)\n",
        "t = np.array([u[0], t])\n",
        "z = np.array([u[0], z])\n",
        "draw_vectors(u=u, v=v, t=t)\n",
        "draw_vectors(z=z, v=v, t=t)"
      ],
      "execution_count": null,
      "outputs": [
        {
          "output_type": "stream",
          "text": [
            "(array([[0., 0.],\n",
            "       [3., 3.]]), array([[ 0.,  0.],\n",
            "       [-1., 12.]]), array([[ 3,  3],\n",
            "       [-4,  9]]))\n",
            "[[ 3.  3.]\n",
            " [ 4. 12.]]\n"
          ],
          "name": "stdout"
        },
        {
          "output_type": "display_data",
          "data": {
            "image/png": "[encoded data removed]",
            "text/plain": [
              "<Figure size 432x288 with 1 Axes>"
            ]
          },
          "metadata": {
            "tags": []
          }
        },
        {
          "output_type": "stream",
          "text": [
            "(array([[0., 0.],\n",
            "       [3., 3.]]), array([[ 0.,  0.],\n",
            "       [-1., 12.]]), array([[ 3,  3],\n",
            "       [-4,  9]]))\n",
            "[[ 3.  3.]\n",
            " [ 4. 12.]]\n"
          ],
          "name": "stdout"
        },
        {
          "output_type": "display_data",
          "data": {
            "image/png": "[encoded data removed]",
            "text/plain": [
              "<Figure size 432x288 with 1 Axes>"
            ]
          },
          "metadata": {
            "tags": []
          }
        }
      ]
    },
    {
      "cell_type": "markdown",
      "metadata": {
        "id": "0ixHAXwre-kY"
      },
      "source": [
        "# MATH\n",
        "## Lecture 1: Measures of Magnitude"
      ]
    },
    {
      "cell_type": "markdown",
      "metadata": {
        "id": "mH4IKApse-kY"
      },
      "source": [
        "### Definition of Norms\n",
        "A norm is a measure of “distance”. These are the three properties they need to have. General notation is a single bar or a double bar surrouding the vector $\\|V\\|$"
      ]
    },
    {
      "cell_type": "markdown",
      "metadata": {
        "id": "It1LV7Mje-kZ"
      },
      "source": [
        "### Properties of Norm\n",
        "A $\\bar V$ is a nonnegative-valued scalar function $\\rho V \\rightarrow [0,+\\infty)$ with the following properties\n",
        "* Norms are positive - As norm is a measurement of distance, and distances cannot be negative, so norms are always positive\n",
        "* Satisfies Triangle inequality - $\\rho(\\vec u + \\vec v) \\le \\rho(\\vec u) + \\rho(\\vec v)$\n",
        "* Is absolutely homogenous/scalable: $\\rho(a\\vec v) = |a|\\rho(\\vec v)$\n",
        "* $\\rho(\\vec v) = 0 \\iff \\vec v  = 0$"
      ]
    },
    {
      "cell_type": "markdown",
      "metadata": {
        "id": "ixPfJbDZe-kZ"
      },
      "source": [
        "### Mathematical Definition\n",
        "\n",
        "The vector Norm $\\|V\\|$ for $p \\in \\mathbb{N}$ is defined as $\\|V\\|_p = \\left(\\sum_i^n{|x_i|^p}\\right)^{\\frac{1}{p}}$\n",
        "\n",
        "**L1-Norm or Manhattan Norm**\n",
        "\n",
        "If p = 1, we get $\\|V\\|_1 = \\left(\\sum_i^n{|x_i|^1}\\right)^{\\frac{1}{1}} = \\left(\\sum_i^n{|x_i|}\\right)$. This is the manhattan distance, the distance between two points in a grid strinctly travering either horizontally or vertically. The name is based on the gridlike street geography of the New York borough of Manhattan.\n",
        "\n",
        "**L2-Norm or Euclidian Norm**\n",
        "\n",
        "If p = 2, we get $\\|V\\|_2 = \\left(\\sum_i^n{|x_i|^2}\\right)^{\\frac{1}{2}} = \\sqrt{\\sum_i^n{|x_i|^2}}$. This is the euclidian distance, the shortest distance between two points in a grid. Also called euclidian norm, this can also be epressed as the root of the dot product i.e. $\\sqrt{\\vec v \\cdot \\vec v}$\n",
        "\n",
        "**L$\\infty$-Norm or Maximum norm**\n",
        "\n",
        "If p = $\\infty$, we get $\\|V\\|_\\infty = \\left(\\sum_i^n{|x_i|^\\infty}\\right)^{\\frac{1}{\\infty}} = \\left(\\sum_i^n{|x_i|^\\infty}\\right)^{\\frac{1}{\\infty}}$. Let $x_k$ be component with the maximum value. We can then express the expression as\n",
        "$$\\Rightarrow \\|V\\|_\\infty = \\left(\\sum_i^n{|x_i|^\\infty}\\right)^{\\frac{1}{\\infty}}$$\n",
        "$$\\Rightarrow \\|V\\|_\\infty = \\left(\\sum_i^{k-1}{|x_i|^\\infty + x_k^\\infty + \\sum_{k+1}^n{|x_i|^\\infty}}\\right)^{\\frac{1}{\\infty}}$$\n",
        "$$\\Rightarrow \\|V\\|_\\infty = x_k\\left(\\sum_i^{k-1}{\\left(\\frac{|x_i|}{x_k}\\right)^\\infty + \\left(\\frac{x_k}{x_k}\\right)^\\infty + \\sum_{k+1}^n{\\left(\\frac{|x_i|}{x_k}\\right)^\\infty}}\\right)^{\\frac{1}{\\infty}}$$\n",
        "$$\\Rightarrow \\|V\\|_\\infty = x_k\\left(\\sum_i^{k-1}{\\left(0\\right)^\\infty + \\left(1\\right)^\\infty + \\sum_{k+1}^n{\\left(0\\right)^\\infty}}\\right)^{\\frac{1}{\\infty}}$$\n",
        "$$\\Rightarrow \\|V\\|_\\infty = x_k$$\n",
        "\n",
        "So, if $\\vec V = (V_0, V_1, V_2, \\dots, V_n)$ then $\\|V\\|_\\infty = \\max(|V_0|, |V_1|, |V_2|, \\dots, |V_n|)$\n",
        "\n",
        "**L0-Norm or Zero norm**\n",
        "\n",
        "If p = 0, we get $\\|V\\|_0 = \\left(\\sum_i^n{|x_i|^0}\\right)^{\\frac{1}{0}}$ does not exist. Unfortunately, it is difficult to work with an expression with zero-th root. So, we drop the pth root from the expression and re-write it in the limitting form $\\lim_{p \\to 0}{\\sum\\limits_{k=1}^{n}{|x_k|^p}}$. An alternate way express it is $\\|x\\|_0 = \\#(i|x_i = 0)$ which is total number of non-zero elements in a vector.\n",
        "\n",
        "So, its a measurement of number of non-zero components of the vector."
      ]
    },
    {
      "cell_type": "markdown",
      "metadata": {
        "id": "sv4WjUwTe-ka"
      },
      "source": [
        "## Intuition to Regularization\n",
        "\n",
        "Let's revisit the problem of predicting the price from the apartment size. Instead of fitting a line, let's try to fit a polynomial to follow the relationship accurately"
      ]
    },
    {
      "cell_type": "code",
      "metadata": {
        "id": "WdI3fuMTe-ka",
        "colab": {
          "base_uri": "https://localhost:8080/",
          "height": 300
        },
        "outputId": "38350167-c2fe-412e-bdcb-ce348ca6d62b"
      },
      "source": [
        "\n",
        "df.plot.scatter(x='area', y='price')\n",
        "param_2 = np.polyfit(df.area, df.price, 2)\n",
        "poly_2 = np.poly1d(param_2)\n",
        "plt.plot(df.area,poly_2(df.area),\"r\")"
      ],
      "execution_count": null,
      "outputs": [
        {
          "output_type": "execute_result",
          "data": {
            "text/plain": [
              "[<matplotlib.lines.Line2D at 0x7ff793744110>]"
            ]
          },
          "metadata": {
            "tags": []
          },
          "execution_count": 16
        },
        {
          "output_type": "display_data",
          "data": {
            "image/png": "[encoded data removed]",
            "text/plain": [
              "<Figure size 432x288 with 1 Axes>"
            ]
          },
          "metadata": {
            "tags": []
          }
        }
      ]
    },
    {
      "cell_type": "markdown",
      "metadata": {
        "id": "NTnTcPl-e-kb"
      },
      "source": [
        "The above is fitted with a quadration function $f = \\theta_0+ \\theta_1x + \\theta_2x^2$\n",
        "\n",
        "Noting that the function might have missed few points, we can try to fit a higher polynomial sp-line $f = \\theta_0+ \\theta_1x + \\theta_2x^2 + \\theta_2x^3 + \\theta_2x^4$ to capture the relationship accurately."
      ]
    },
    {
      "cell_type": "code",
      "metadata": {
        "id": "jT-67Ie4e-kc",
        "colab": {
          "base_uri": "https://localhost:8080/",
          "height": 300
        },
        "outputId": "105e5c8c-9f27-48e2-e869-4e3e419b98f3"
      },
      "source": [
        "\n",
        "df.plot.scatter(x='area', y='price')\n",
        "param_15 = np.polyfit(df.area, df.price, 15)\n",
        "poly_15 = np.poly1d(param_15)\n",
        "plt.plot(df.area,poly_15(df.area),\"r\")"
      ],
      "execution_count": null,
      "outputs": [
        {
          "output_type": "execute_result",
          "data": {
            "text/plain": [
              "[<matplotlib.lines.Line2D at 0x7ff79374e9d0>]"
            ]
          },
          "metadata": {
            "tags": []
          },
          "execution_count": 17
        },
        {
          "output_type": "display_data",
          "data": {
            "image/png": "[encoded data removed]",
            "text/plain": [
              "<Figure size 432x288 with 1 Axes>"
            ]
          },
          "metadata": {
            "tags": []
          }
        }
      ]
    },
    {
      "cell_type": "markdown",
      "metadata": {
        "id": "csB-mHFee-ke"
      },
      "source": [
        "and end up overfitting it. To reduce the variance (onother technical term for overfitting) is to reduce the influence the impact of higher order terms. To penalize the higher order term, we can add the higher order term to the loss function and try to minimize it.\n",
        "\n",
        "$$\\underset{\\theta}{\\min} \\frac{1}{2m}\\sum_1^m{h_{\\theta}\\left(x^{(i)} - y^{(i)}\\right)^2} + \\lambda\\theta_3^2 + \\lambda\\theta_4^2$$\n"
      ]
    },
    {
      "cell_type": "markdown",
      "metadata": {
        "id": "8fXaOkzbe-ke"
      },
      "source": [
        "The price of an apartments depends on multiple features $x_0, x_1, x_2, \\dots x_n$ corresponding to size, location, builder et. al. In absence of appropiate frature engineering, it is difficult to predict which of there features have a higher contributing factor. So alternatively, given the feature set  ${x_0, x_1, x_2, \\dots x_n}$ and the corresponding parameters ${\\theta_0, \\theta_1, \\theta_2, \\dots, \\theta_n }$, it is difficult to predict, which of the parameters should be penalized. So, instead of being choosy, we can try to shrink all the parameters\n",
        "$$J(\\theta) = \\underset{\\theta}{\\min} \\frac{1}{2m}\\sum_1^m{h_{\\theta}\\left(x^{(i)} - y^{(i)}\\right)^2} + \\lambda\\sum_{i=1}^n{\\theta_j^2}$$\n",
        "and then validate what is the right set of parameters that minimizes the cost"
      ]
    },
    {
      "cell_type": "markdown",
      "metadata": {
        "id": "GNKFJBnle-kf"
      },
      "source": [
        "## L1 vs L2\n",
        "In the above expression, for both the error as well as normalization, we have used $L_2$ norm. Intuitively, we can also use an $L_1$ norm\n",
        "\n",
        "For an overfitted model, to reduce the influence of the training data, we apply an $L_1$norm to the solution vector, and try to make it as small as possible. So instead of finding the best vector $X$ to minimize a loss function $f(X)$, we will try to minimize $\\left(f(x) + L_1(x)\\right)$. An $X$ with small $L_1$ norm tends to have a sparse solution. Being sparse means that the majority of $X$’s components (weights) are zeros and a sparse solution could avoid over-fitting.\n",
        "\n",
        "We can pictorially define the norms as\n",
        "![regularization 1](https://6ulhxg.dm.files.1drv.com/y4mYn1aSue-xMZIn0OKNQOz43_VMGlYSAy-OYddcEPbYi4TEOa_k0YcHETaI-2NXxpuvntAjhfzwr4v-Y8nnQ5lnNxoqrjP32ariyF4Uu80mgmf0kkzOXC5-l_nv3HQLs7kXWVMtON4rwzt1n7LS0gW7GB2ZZ_sbdG__8WctmZ8a5GTERYT05cYoSJRp6uLDk2wUj6sxmgXYWN9dijcyU0qmQ?width=492&height=199&cropmode=none)\n",
        "\n",
        "Appreciate the fact that, minimum is achived only at the corners. For an n-dimensional hyper space, a corner is defined as one or more componets to be zero, which inherently achives spare solution.\n",
        "\n",
        "The advantage of $L_1$ over $L_2$ can now be explained through the idea of fitting a line over a set of points.\n",
        "![regularization 1](https://7olhxg.dm.files.1drv.com/y4mkv1b1nayg0BIl78CBsPJlkCmLMrwVrTE0PrR9OCWT1wxrtjTBK_0W74XN8IUlFLTSK48gi7efIUf8hneCADu_Sph2PzEroxLojrW5dCq7uA6dNMzerBPvYPbo8lQfeIKHdOB0VI6iF2eshI11j1VhyY8HddQdw5anw6kFDYmt3Xy0bmD6lSum8xv-9RTurzrDwFaZnbG2u9iTo5-ZJxHNw?width=679&height=572&cropmode=none)\n",
        "\n",
        "The $L_2$ norm is a square expression $\\sqrt{(y_1 - \\omega_1^TX_1)^2 + (y_2 - \\omega_2^TX_2)^2 + \\dots + (y_n - \\omega_n^TX_n)^2}$ and the square terms blows up the error difference of the outliers. The minimization algorithm rushes in to fix the situation and inadvertently focuses majorly on the outliers and less so on the actual data. Thus we end up on the blue line.\n",
        "\n",
        "An $L_1$ norm is much more imune to outlinersas its defined as |(y1−ωT1x1)|+|(y2−ωT2x2)|+…+|(yn−ωTnxn)|. There is no square term to blow up the error difference of the outliers and the minimization algorithm keeps its focus on the data instead of the outliers. This achieves the red line.\n",
        "\n",
        "Unfortunately $L_1$ norm is not differentiable (the derivative at x = 0 is not continious) and is not attractive to use in an optimization setting whereas $L_2$ has a closed form solution and is attractive.\n",
        "\n",
        "Finally for your visual treat, here are the visual representation of various norms from p = 0 through p = $\\infty$\n",
        "![regularization 1](https://6plhxg.dm.files.1drv.com/y4mQojZu1HGehKqGF1zJ_fBRXr0ZHsRpzRvDgdaUpyOb4OLYDS7iYVDt81ocQqWv8gDfbY6O7-W9-5T1wV2ZJCY2ralc0GfwdvHmtZUTJnNYtjFuDbOWgVAOr71yb8SRTsFDHl2EwhCK8Z-zYRGTPxNKSy_UAisCe8dBVuKL8gcLT3OMrNhGUuZaRGnhHL2a0m2mHk4hnyGQwyE_b3nrOcoeg?width=1204&height=300&cropmode=none)"
      ]
    },
    {
      "cell_type": "markdown",
      "metadata": {
        "id": "RvjFGY6te-kf"
      },
      "source": [
        "![LASSO_RIDGE](https://drive.corp.amazon.com/view/abhijbha@/HostedImages/MLU/MATH/ridge_lasso.png?download=true)\n"
      ]
    },
    {
      "cell_type": "markdown",
      "metadata": {
        "id": "PrfmbBete-kg"
      },
      "source": [
        "# MATH\n",
        "## Lecture 1: k-Nearest Neighbors"
      ]
    },
    {
      "cell_type": "markdown",
      "metadata": {
        "id": "O2FEi3j8e-kh"
      },
      "source": [
        "We now have the tools to define what is perhaps the simples machine learning algorithm of all. Suppose  we  have  a  collection  of  input  vector $\\{\\vec{x}_i\\}^N_{i=1}$ and  target values $\\{\\vec{y}_i\\}^N_{i=1}$.  Think of this where the $x_i$ are the pixel brightnesses of images of handwritten digits written out, and the $y_i$ are 0 if the image shows a zero, and 1 if the image is a 1.If we are given a new image $\\vec{x}$ and we want to tell if it is a zero or a one, we can implement the following algorithm: If you want to\n",
        "* **input**  : $\\{\\vec{x}_i\\}^N_{i=1},\\{\\vec{y}_i\\}^N_{i=1}, \\vec{x}$, and $k$\n",
        "* **output**: A prediction for the correct $y$ value to pair with $\\vec{x}$ given the dataset made by having the $k$ nearest points vote (best if $k$ is odd).\n",
        "* $S \\leftarrow [(\\|\\vec{x}−\\vec{x_i}\\|, y_i)\\text{ }\\forall i \\in {1,2, . . . , N}];$\n",
        "* $S \\leftarrow$ sort(S by first component);\n",
        "* **return** MostCommon(second component of S[0 :k]) predict a number instead of a binary label, you can take the average value instead."
      ]
    },
    {
      "cell_type": "markdown",
      "metadata": {
        "id": "0HtHDI6de-kh"
      },
      "source": []
    }
  ]
}